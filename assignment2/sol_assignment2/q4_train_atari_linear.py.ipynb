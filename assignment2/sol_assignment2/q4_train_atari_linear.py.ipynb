{
 "cells": [
  {
   "cell_type": "code",
   "execution_count": null,
   "metadata": {},
   "outputs": [],
   "source": [
    "import gym\n",
    "from utils.preprocess import greyscale\n",
    "from utils.wrappers import PreproWrapper, MaxAndSkipEnv\n",
    "\n",
    "from q1_schedule import LinearExploration, LinearSchedule\n",
    "from q2_linear import Linear\n",
    "\n",
    "from configs.q4_train_atari_linear import config\n",
    "\n",
    "\"\"\"\n",
    "Use linear approximation for the Atari game. Please report the final result.\n",
    "Feel free to change the configurations (in the configs/ folder). \n",
    "If so, please report your hyperparameters.\n",
    "\n",
    "You'll find the results, log and video recordings of your agent every 250k under\n",
    "the corresponding file in the results folder. A good way to monitor the progress\n",
    "of the training is to use Tensorboard. The starter code writes summaries of different\n",
    "variables.\n",
    "\n",
    "To launch tensorboard, open a Terminal window and run \n",
    "tensorboard --logdir=results/\n",
    "Then, connect remotely to \n",
    "address-ip-of-the-server:6006 \n",
    "6006 is the default port used by tensorboard.\n",
    "\"\"\"\n",
    "if __name__ == '__main__':\n",
    "    # make env\n",
    "    env = gym.make(config.env_name)\n",
    "    env = MaxAndSkipEnv(env, skip=config.skip_frame)\n",
    "    env = PreproWrapper(env, prepro=greyscale, shape=(80, 80, 1), \n",
    "                        overwrite_render=config.overwrite_render)\n",
    "\n",
    "    # exploration strategy\n",
    "    exp_schedule = LinearExploration(env, config.eps_begin, \n",
    "            config.eps_end, config.eps_nsteps)\n",
    "\n",
    "    # learning rate schedule\n",
    "    lr_schedule  = LinearSchedule(config.lr_begin, config.lr_end,\n",
    "            config.lr_nsteps)\n",
    "\n",
    "    # train model\n",
    "    model = Linear(env, config)\n",
    "    model.run(exp_schedule, lr_schedule)\n"
   ]
  }
 ],
 "metadata": {
  "kernelspec": {
   "display_name": "Python 3",
   "language": "python",
   "name": "python3"
  },
  "language_info": {
   "codemirror_mode": {
    "name": "ipython",
    "version": 3
   },
   "file_extension": ".py",
   "mimetype": "text/x-python",
   "name": "python",
   "nbconvert_exporter": "python",
   "pygments_lexer": "ipython3",
   "version": "3.6.12"
  }
 },
 "nbformat": 4,
 "nbformat_minor": 4
}
