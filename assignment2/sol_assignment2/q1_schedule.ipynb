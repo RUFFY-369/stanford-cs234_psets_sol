{
 "cells": [
  {
   "cell_type": "code",
   "execution_count": 2,
   "metadata": {},
   "outputs": [],
   "source": [
    "import numpy as np\n",
    "from test_env import EnvTest"
   ]
  },
  {
   "cell_type": "code",
   "execution_count": 3,
   "metadata": {},
   "outputs": [],
   "source": [
    "class LinearSchedule(object):\n",
    "    def __init__(self, eps_begin, eps_end, nsteps):\n",
    "        \"\"\"\n",
    "        Args:\n",
    "            eps_begin: initial exploration\n",
    "            eps_end: end exploration\n",
    "            nsteps: number of steps between the two values of eps\n",
    "        \"\"\"\n",
    "        self.epsilon        = eps_begin\n",
    "        self.eps_begin      = eps_begin\n",
    "        self.eps_end        = eps_end\n",
    "        self.nsteps         = nsteps\n",
    "\n",
    "\n",
    "    def update(self, t):\n",
    "        \"\"\"\n",
    "        Updates epsilon\n",
    "\n",
    "        Args:\n",
    "            t: int\n",
    "                frame number\n",
    "        \"\"\"\n",
    "        ##############################################################\n",
    "        \"\"\"\n",
    "        TODO: modify self.epsilon such that \n",
    "\t\t\t  it is a linear interpolation from self.eps_begin to \n",
    "\t\t\t  self.eps_end as t goes from 0 to self.nsteps\n",
    "\t\t\t  For t > self.nsteps self.epsilon remains constant\n",
    "        \"\"\"\n",
    "        ##############################################################\n",
    "        ################ YOUR CODE HERE - 3-4 lines ################## \n",
    "        if t<self.nsteps:\n",
    "            self.epsilon=self.eps_begin- ((self.eps_begin-self.eps_end)/self.nsteps)*t\n",
    "        else:\n",
    "            self.epsilon=self.eps_end\n",
    "        ##############################################################\n",
    "        ######################## END YOUR CODE ############## ########\n",
    "\n",
    "\n",
    "class LinearExploration(LinearSchedule):\n",
    "    def __init__(self, env, eps_begin, eps_end, nsteps):\n",
    "        \"\"\"\n",
    "        Args:\n",
    "            env: gym environment\n",
    "            eps_begin: float\n",
    "                initial exploration rate\n",
    "            eps_end: float\n",
    "                final exploration rate\n",
    "            nsteps: int\n",
    "                number of steps taken to linearly decay eps_begin to eps_end\n",
    "        \"\"\"\n",
    "        self.env = env\n",
    "        super(LinearExploration, self).__init__(eps_begin, eps_end, nsteps)\n",
    "\n",
    "\n",
    "    def get_action(self, best_action):\n",
    "        \"\"\"\n",
    "        Returns a random action with prob epsilon, otherwise returns the best_action\n",
    "\n",
    "        Args:\n",
    "            best_action: int \n",
    "                best action according some policy\n",
    "        Returns:\n",
    "            an action\n",
    "        \"\"\"\n",
    "        ##############################################################\n",
    "        \"\"\"\n",
    "        TODO: with probability self.epsilon, return a random action\n",
    "                else, return best_action\n",
    "\n",
    "                you can access the environment via self.env\n",
    "\n",
    "                you may use env.action_space.sample() to generate \n",
    "                a random action        \n",
    "        \"\"\"\n",
    "        ##############################################################\n",
    "        ################ YOUR CODE HERE - 4-5 lines ##################\n",
    "        if np.random.rand() < self.epsilon:        \n",
    "            return self.env.action_space.sample() \n",
    "        else:\n",
    "            return best_action\n",
    "         \n",
    "        \n",
    "\n",
    "        ##############################################################\n",
    "        ######################## END YOUR CODE #######################\n"
   ]
  },
  {
   "cell_type": "code",
   "execution_count": 4,
   "metadata": {},
   "outputs": [],
   "source": [
    "def test1():\n",
    "    env = EnvTest((5, 5, 1))\n",
    "    exp_strat = LinearExploration(env, 1, 0, 10)\n",
    "    \n",
    "    found_diff = False\n",
    "    for i in range(10):\n",
    "        rnd_act = exp_strat.get_action(0)\n",
    "        if rnd_act != 0 and rnd_act is not None:\n",
    "            found_diff = True\n",
    "\n",
    "    assert found_diff, \"Test 1 failed.\"\n",
    "    print(\"Test1: ok\")\n",
    "\n"
   ]
  },
  {
   "cell_type": "code",
   "execution_count": 5,
   "metadata": {},
   "outputs": [],
   "source": [
    "def test2():\n",
    "    env = EnvTest((5, 5, 1))\n",
    "    exp_strat = LinearExploration(env, 1, 0, 10)\n",
    "    exp_strat.update(5)\n",
    "    assert exp_strat.epsilon == 0.5, \"Test 2 failed\"\n",
    "    print(\"Test2: ok\")"
   ]
  },
  {
   "cell_type": "code",
   "execution_count": 6,
   "metadata": {},
   "outputs": [],
   "source": [
    "def test3():\n",
    "    env = EnvTest((5, 5, 1))\n",
    "    exp_strat = LinearExploration(env, 1, 0.5, 10)\n",
    "    exp_strat.update(20)\n",
    "    assert exp_strat.epsilon == 0.5, \"Test 3 failed\"\n",
    "    print(\"Test3: ok\")"
   ]
  },
  {
   "cell_type": "code",
   "execution_count": 7,
   "metadata": {},
   "outputs": [],
   "source": [
    "def your_test():\n",
    "    \"\"\"\n",
    "    Use this to implement your own tests if you'd like (not required)\n",
    "    \"\"\"\n",
    "    pass"
   ]
  },
  {
   "cell_type": "code",
   "execution_count": 8,
   "metadata": {},
   "outputs": [
    {
     "name": "stdout",
     "output_type": "stream",
     "text": [
      "Test1: ok\n",
      "Test2: ok\n",
      "Test3: ok\n"
     ]
    }
   ],
   "source": [
    "if __name__ == \"__main__\":\n",
    "    test1()\n",
    "    test2()\n",
    "    test3()\n",
    "    your_test()"
   ]
  },
  {
   "cell_type": "code",
   "execution_count": null,
   "metadata": {},
   "outputs": [],
   "source": []
  }
 ],
 "metadata": {
  "kernelspec": {
   "display_name": "Python 3",
   "language": "python",
   "name": "python3"
  },
  "language_info": {
   "codemirror_mode": {
    "name": "ipython",
    "version": 3
   },
   "file_extension": ".py",
   "mimetype": "text/x-python",
   "name": "python",
   "nbconvert_exporter": "python",
   "pygments_lexer": "ipython3",
   "version": "3.6.12"
  }
 },
 "nbformat": 4,
 "nbformat_minor": 4
}
